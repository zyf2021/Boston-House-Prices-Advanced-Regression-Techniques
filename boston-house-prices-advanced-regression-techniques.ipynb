{
 "cells": [
  {
   "cell_type": "code",
   "execution_count": 1,
   "id": "9a013e59",
   "metadata": {
    "_cell_guid": "b1076dfc-b9ad-4769-8c92-a6c4dae69d19",
    "_uuid": "8f2839f25d086af736a60e9eeb907d3b93b6e0e5",
    "execution": {
     "iopub.execute_input": "2024-09-30T18:09:30.899533Z",
     "iopub.status.busy": "2024-09-30T18:09:30.899028Z",
     "iopub.status.idle": "2024-09-30T18:09:31.955106Z",
     "shell.execute_reply": "2024-09-30T18:09:31.953593Z"
    },
    "papermill": {
     "duration": 1.069419,
     "end_time": "2024-09-30T18:09:31.958279",
     "exception": false,
     "start_time": "2024-09-30T18:09:30.888860",
     "status": "completed"
    },
    "tags": []
   },
   "outputs": [
    {
     "name": "stdout",
     "output_type": "stream",
     "text": [
      "/kaggle/input/the-boston-houseprice-data/boston.csv\n",
      "/kaggle/input/house-prices-advanced-regression-techniques/sample_submission.csv\n",
      "/kaggle/input/house-prices-advanced-regression-techniques/data_description.txt\n",
      "/kaggle/input/house-prices-advanced-regression-techniques/train.csv\n",
      "/kaggle/input/house-prices-advanced-regression-techniques/test.csv\n"
     ]
    }
   ],
   "source": [
    "# This Python 3 environment comes with many helpful analytics libraries installed\n",
    "# It is defined by the kaggle/python Docker image: https://github.com/kaggle/docker-python\n",
    "# For example, here's several helpful packages to load\n",
    "\n",
    "import numpy as np # linear algebra\n",
    "import pandas as pd # data processing, CSV file I/O (e.g. pd.read_csv)\n",
    "\n",
    "# Input data files are available in the read-only \"../input/\" directory\n",
    "# For example, running this (by clicking run or pressing Shift+Enter) will list all files under the input directory\n",
    "\n",
    "import os\n",
    "for dirname, _, filenames in os.walk('/kaggle/input'):\n",
    "    for filename in filenames:\n",
    "        print(os.path.join(dirname, filename))\n",
    "\n",
    "# You can write up to 20GB to the current directory (/kaggle/working/) that gets preserved as output when you create a version using \"Save & Run All\" \n",
    "# You can also write temporary files to /kaggle/temp/, but they won't be saved outside of the current session\n",
    "\n",
    "df = pd.read_csv('/kaggle/input/house-prices-advanced-regression-techniques/train.csv')"
   ]
  },
  {
   "cell_type": "markdown",
   "id": "8c2d49c0",
   "metadata": {
    "papermill": {
     "duration": 0.006975,
     "end_time": "2024-09-30T18:09:31.972890",
     "exception": false,
     "start_time": "2024-09-30T18:09:31.965915",
     "status": "completed"
    },
    "tags": []
   },
   "source": [
    "# Предварительная обработка данных"
   ]
  },
  {
   "cell_type": "markdown",
   "id": "7b38ef3f",
   "metadata": {
    "papermill": {
     "duration": 0.008302,
     "end_time": "2024-09-30T18:09:31.988355",
     "exception": false,
     "start_time": "2024-09-30T18:09:31.980053",
     "status": "completed"
    },
    "tags": []
   },
   "source": [
    "1. Посмотреть на пропуски. "
   ]
  },
  {
   "cell_type": "code",
   "execution_count": 2,
   "id": "1a065909",
   "metadata": {
    "execution": {
     "iopub.execute_input": "2024-09-30T18:09:32.005578Z",
     "iopub.status.busy": "2024-09-30T18:09:32.005041Z",
     "iopub.status.idle": "2024-09-30T18:09:32.075369Z",
     "shell.execute_reply": "2024-09-30T18:09:32.074025Z"
    },
    "papermill": {
     "duration": 0.082934,
     "end_time": "2024-09-30T18:09:32.078490",
     "exception": false,
     "start_time": "2024-09-30T18:09:31.995556",
     "status": "completed"
    },
    "tags": []
   },
   "outputs": [
    {
     "data": {
      "text/html": [
       "<div>\n",
       "<style scoped>\n",
       "    .dataframe tbody tr th:only-of-type {\n",
       "        vertical-align: middle;\n",
       "    }\n",
       "\n",
       "    .dataframe tbody tr th {\n",
       "        vertical-align: top;\n",
       "    }\n",
       "\n",
       "    .dataframe thead th {\n",
       "        text-align: right;\n",
       "    }\n",
       "</style>\n",
       "<table border=\"1\" class=\"dataframe\">\n",
       "  <thead>\n",
       "    <tr style=\"text-align: right;\">\n",
       "      <th></th>\n",
       "      <th>Id</th>\n",
       "      <th>MSSubClass</th>\n",
       "      <th>MSZoning</th>\n",
       "      <th>LotFrontage</th>\n",
       "      <th>LotArea</th>\n",
       "      <th>Street</th>\n",
       "      <th>Alley</th>\n",
       "      <th>LotShape</th>\n",
       "      <th>LandContour</th>\n",
       "      <th>Utilities</th>\n",
       "      <th>...</th>\n",
       "      <th>PoolArea</th>\n",
       "      <th>PoolQC</th>\n",
       "      <th>Fence</th>\n",
       "      <th>MiscFeature</th>\n",
       "      <th>MiscVal</th>\n",
       "      <th>MoSold</th>\n",
       "      <th>YrSold</th>\n",
       "      <th>SaleType</th>\n",
       "      <th>SaleCondition</th>\n",
       "      <th>SalePrice</th>\n",
       "    </tr>\n",
       "  </thead>\n",
       "  <tbody>\n",
       "    <tr>\n",
       "      <th>0</th>\n",
       "      <td>1</td>\n",
       "      <td>60</td>\n",
       "      <td>RL</td>\n",
       "      <td>65.0</td>\n",
       "      <td>8450</td>\n",
       "      <td>Pave</td>\n",
       "      <td>NaN</td>\n",
       "      <td>Reg</td>\n",
       "      <td>Lvl</td>\n",
       "      <td>AllPub</td>\n",
       "      <td>...</td>\n",
       "      <td>0</td>\n",
       "      <td>NaN</td>\n",
       "      <td>NaN</td>\n",
       "      <td>NaN</td>\n",
       "      <td>0</td>\n",
       "      <td>2</td>\n",
       "      <td>2008</td>\n",
       "      <td>WD</td>\n",
       "      <td>Normal</td>\n",
       "      <td>208500</td>\n",
       "    </tr>\n",
       "    <tr>\n",
       "      <th>1</th>\n",
       "      <td>2</td>\n",
       "      <td>20</td>\n",
       "      <td>RL</td>\n",
       "      <td>80.0</td>\n",
       "      <td>9600</td>\n",
       "      <td>Pave</td>\n",
       "      <td>NaN</td>\n",
       "      <td>Reg</td>\n",
       "      <td>Lvl</td>\n",
       "      <td>AllPub</td>\n",
       "      <td>...</td>\n",
       "      <td>0</td>\n",
       "      <td>NaN</td>\n",
       "      <td>NaN</td>\n",
       "      <td>NaN</td>\n",
       "      <td>0</td>\n",
       "      <td>5</td>\n",
       "      <td>2007</td>\n",
       "      <td>WD</td>\n",
       "      <td>Normal</td>\n",
       "      <td>181500</td>\n",
       "    </tr>\n",
       "    <tr>\n",
       "      <th>2</th>\n",
       "      <td>3</td>\n",
       "      <td>60</td>\n",
       "      <td>RL</td>\n",
       "      <td>68.0</td>\n",
       "      <td>11250</td>\n",
       "      <td>Pave</td>\n",
       "      <td>NaN</td>\n",
       "      <td>IR1</td>\n",
       "      <td>Lvl</td>\n",
       "      <td>AllPub</td>\n",
       "      <td>...</td>\n",
       "      <td>0</td>\n",
       "      <td>NaN</td>\n",
       "      <td>NaN</td>\n",
       "      <td>NaN</td>\n",
       "      <td>0</td>\n",
       "      <td>9</td>\n",
       "      <td>2008</td>\n",
       "      <td>WD</td>\n",
       "      <td>Normal</td>\n",
       "      <td>223500</td>\n",
       "    </tr>\n",
       "    <tr>\n",
       "      <th>3</th>\n",
       "      <td>4</td>\n",
       "      <td>70</td>\n",
       "      <td>RL</td>\n",
       "      <td>60.0</td>\n",
       "      <td>9550</td>\n",
       "      <td>Pave</td>\n",
       "      <td>NaN</td>\n",
       "      <td>IR1</td>\n",
       "      <td>Lvl</td>\n",
       "      <td>AllPub</td>\n",
       "      <td>...</td>\n",
       "      <td>0</td>\n",
       "      <td>NaN</td>\n",
       "      <td>NaN</td>\n",
       "      <td>NaN</td>\n",
       "      <td>0</td>\n",
       "      <td>2</td>\n",
       "      <td>2006</td>\n",
       "      <td>WD</td>\n",
       "      <td>Abnorml</td>\n",
       "      <td>140000</td>\n",
       "    </tr>\n",
       "    <tr>\n",
       "      <th>4</th>\n",
       "      <td>5</td>\n",
       "      <td>60</td>\n",
       "      <td>RL</td>\n",
       "      <td>84.0</td>\n",
       "      <td>14260</td>\n",
       "      <td>Pave</td>\n",
       "      <td>NaN</td>\n",
       "      <td>IR1</td>\n",
       "      <td>Lvl</td>\n",
       "      <td>AllPub</td>\n",
       "      <td>...</td>\n",
       "      <td>0</td>\n",
       "      <td>NaN</td>\n",
       "      <td>NaN</td>\n",
       "      <td>NaN</td>\n",
       "      <td>0</td>\n",
       "      <td>12</td>\n",
       "      <td>2008</td>\n",
       "      <td>WD</td>\n",
       "      <td>Normal</td>\n",
       "      <td>250000</td>\n",
       "    </tr>\n",
       "  </tbody>\n",
       "</table>\n",
       "<p>5 rows × 81 columns</p>\n",
       "</div>"
      ],
      "text/plain": [
       "   Id  MSSubClass MSZoning  LotFrontage  LotArea Street Alley LotShape  \\\n",
       "0   1          60       RL         65.0     8450   Pave   NaN      Reg   \n",
       "1   2          20       RL         80.0     9600   Pave   NaN      Reg   \n",
       "2   3          60       RL         68.0    11250   Pave   NaN      IR1   \n",
       "3   4          70       RL         60.0     9550   Pave   NaN      IR1   \n",
       "4   5          60       RL         84.0    14260   Pave   NaN      IR1   \n",
       "\n",
       "  LandContour Utilities  ... PoolArea PoolQC Fence MiscFeature MiscVal MoSold  \\\n",
       "0         Lvl    AllPub  ...        0    NaN   NaN         NaN       0      2   \n",
       "1         Lvl    AllPub  ...        0    NaN   NaN         NaN       0      5   \n",
       "2         Lvl    AllPub  ...        0    NaN   NaN         NaN       0      9   \n",
       "3         Lvl    AllPub  ...        0    NaN   NaN         NaN       0      2   \n",
       "4         Lvl    AllPub  ...        0    NaN   NaN         NaN       0     12   \n",
       "\n",
       "  YrSold  SaleType  SaleCondition  SalePrice  \n",
       "0   2008        WD         Normal     208500  \n",
       "1   2007        WD         Normal     181500  \n",
       "2   2008        WD         Normal     223500  \n",
       "3   2006        WD        Abnorml     140000  \n",
       "4   2008        WD         Normal     250000  \n",
       "\n",
       "[5 rows x 81 columns]"
      ]
     },
     "execution_count": 2,
     "metadata": {},
     "output_type": "execute_result"
    }
   ],
   "source": [
    "df = pd.read_csv('/kaggle/input/house-prices-advanced-regression-techniques/train.csv')\n",
    "df.head()"
   ]
  },
  {
   "cell_type": "code",
   "execution_count": 3,
   "id": "8f4eb661",
   "metadata": {
    "execution": {
     "iopub.execute_input": "2024-09-30T18:09:32.097056Z",
     "iopub.status.busy": "2024-09-30T18:09:32.096601Z",
     "iopub.status.idle": "2024-09-30T18:09:32.112731Z",
     "shell.execute_reply": "2024-09-30T18:09:32.111137Z"
    },
    "papermill": {
     "duration": 0.02889,
     "end_time": "2024-09-30T18:09:32.115701",
     "exception": false,
     "start_time": "2024-09-30T18:09:32.086811",
     "status": "completed"
    },
    "tags": []
   },
   "outputs": [
    {
     "name": "stdout",
     "output_type": "stream",
     "text": [
      "Index(['LotFrontage', 'Alley', 'MasVnrType', 'MasVnrArea', 'BsmtQual',\n",
      "       'BsmtCond', 'BsmtExposure', 'BsmtFinType1', 'BsmtFinType2',\n",
      "       'Electrical', 'FireplaceQu', 'GarageType', 'GarageYrBlt',\n",
      "       'GarageFinish', 'GarageQual', 'GarageCond', 'PoolQC', 'Fence',\n",
      "       'MiscFeature'],\n",
      "      dtype='object')\n"
     ]
    }
   ],
   "source": [
    "missing_columns = df.columns[df.isnull().any()]\n",
    "print(missing_columns)"
   ]
  },
  {
   "cell_type": "code",
   "execution_count": 4,
   "id": "eaa2e327",
   "metadata": {
    "execution": {
     "iopub.execute_input": "2024-09-30T18:09:32.133253Z",
     "iopub.status.busy": "2024-09-30T18:09:32.132841Z",
     "iopub.status.idle": "2024-09-30T18:09:32.248762Z",
     "shell.execute_reply": "2024-09-30T18:09:32.247390Z"
    },
    "papermill": {
     "duration": 0.128754,
     "end_time": "2024-09-30T18:09:32.252290",
     "exception": false,
     "start_time": "2024-09-30T18:09:32.123536",
     "status": "completed"
    },
    "tags": []
   },
   "outputs": [
    {
     "name": "stdout",
     "output_type": "stream",
     "text": [
      "<class 'pandas.core.frame.DataFrame'>\n",
      "RangeIndex: 1460 entries, 0 to 1459\n",
      "Data columns (total 81 columns):\n",
      " #   Column         Non-Null Count  Dtype  \n",
      "---  ------         --------------  -----  \n",
      " 0   Id             1460 non-null   int64  \n",
      " 1   MSSubClass     1460 non-null   int64  \n",
      " 2   MSZoning       1460 non-null   object \n",
      " 3   LotFrontage    1201 non-null   float64\n",
      " 4   LotArea        1460 non-null   int64  \n",
      " 5   Street         1460 non-null   object \n",
      " 6   Alley          91 non-null     object \n",
      " 7   LotShape       1460 non-null   object \n",
      " 8   LandContour    1460 non-null   object \n",
      " 9   Utilities      1460 non-null   object \n",
      " 10  LotConfig      1460 non-null   object \n",
      " 11  LandSlope      1460 non-null   object \n",
      " 12  Neighborhood   1460 non-null   object \n",
      " 13  Condition1     1460 non-null   object \n",
      " 14  Condition2     1460 non-null   object \n",
      " 15  BldgType       1460 non-null   object \n",
      " 16  HouseStyle     1460 non-null   object \n",
      " 17  OverallQual    1460 non-null   int64  \n",
      " 18  OverallCond    1460 non-null   int64  \n",
      " 19  YearBuilt      1460 non-null   int64  \n",
      " 20  YearRemodAdd   1460 non-null   int64  \n",
      " 21  RoofStyle      1460 non-null   object \n",
      " 22  RoofMatl       1460 non-null   object \n",
      " 23  Exterior1st    1460 non-null   object \n",
      " 24  Exterior2nd    1460 non-null   object \n",
      " 25  MasVnrType     588 non-null    object \n",
      " 26  MasVnrArea     1452 non-null   float64\n",
      " 27  ExterQual      1460 non-null   object \n",
      " 28  ExterCond      1460 non-null   object \n",
      " 29  Foundation     1460 non-null   object \n",
      " 30  BsmtQual       1423 non-null   object \n",
      " 31  BsmtCond       1423 non-null   object \n",
      " 32  BsmtExposure   1422 non-null   object \n",
      " 33  BsmtFinType1   1423 non-null   object \n",
      " 34  BsmtFinSF1     1460 non-null   int64  \n",
      " 35  BsmtFinType2   1422 non-null   object \n",
      " 36  BsmtFinSF2     1460 non-null   int64  \n",
      " 37  BsmtUnfSF      1460 non-null   int64  \n",
      " 38  TotalBsmtSF    1460 non-null   int64  \n",
      " 39  Heating        1460 non-null   object \n",
      " 40  HeatingQC      1460 non-null   object \n",
      " 41  CentralAir     1460 non-null   object \n",
      " 42  Electrical     1459 non-null   object \n",
      " 43  1stFlrSF       1460 non-null   int64  \n",
      " 44  2ndFlrSF       1460 non-null   int64  \n",
      " 45  LowQualFinSF   1460 non-null   int64  \n",
      " 46  GrLivArea      1460 non-null   int64  \n",
      " 47  BsmtFullBath   1460 non-null   int64  \n",
      " 48  BsmtHalfBath   1460 non-null   int64  \n",
      " 49  FullBath       1460 non-null   int64  \n",
      " 50  HalfBath       1460 non-null   int64  \n",
      " 51  BedroomAbvGr   1460 non-null   int64  \n",
      " 52  KitchenAbvGr   1460 non-null   int64  \n",
      " 53  KitchenQual    1460 non-null   object \n",
      " 54  TotRmsAbvGrd   1460 non-null   int64  \n",
      " 55  Functional     1460 non-null   object \n",
      " 56  Fireplaces     1460 non-null   int64  \n",
      " 57  FireplaceQu    770 non-null    object \n",
      " 58  GarageType     1379 non-null   object \n",
      " 59  GarageYrBlt    1379 non-null   float64\n",
      " 60  GarageFinish   1379 non-null   object \n",
      " 61  GarageCars     1460 non-null   int64  \n",
      " 62  GarageArea     1460 non-null   int64  \n",
      " 63  GarageQual     1379 non-null   object \n",
      " 64  GarageCond     1379 non-null   object \n",
      " 65  PavedDrive     1460 non-null   object \n",
      " 66  WoodDeckSF     1460 non-null   int64  \n",
      " 67  OpenPorchSF    1460 non-null   int64  \n",
      " 68  EnclosedPorch  1460 non-null   int64  \n",
      " 69  3SsnPorch      1460 non-null   int64  \n",
      " 70  ScreenPorch    1460 non-null   int64  \n",
      " 71  PoolArea       1460 non-null   int64  \n",
      " 72  PoolQC         7 non-null      object \n",
      " 73  Fence          281 non-null    object \n",
      " 74  MiscFeature    54 non-null     object \n",
      " 75  MiscVal        1460 non-null   int64  \n",
      " 76  MoSold         1460 non-null   int64  \n",
      " 77  YrSold         1460 non-null   int64  \n",
      " 78  SaleType       1460 non-null   object \n",
      " 79  SaleCondition  1460 non-null   object \n",
      " 80  SalePrice      1460 non-null   int64  \n",
      "dtypes: float64(3), int64(35), object(43)\n",
      "memory usage: 924.0+ KB\n",
      "None\n",
      "                Id   MSSubClass  LotFrontage        LotArea  OverallQual  \\\n",
      "count  1460.000000  1460.000000  1201.000000    1460.000000  1460.000000   \n",
      "mean    730.500000    56.897260    70.049958   10516.828082     6.099315   \n",
      "std     421.610009    42.300571    24.284752    9981.264932     1.382997   \n",
      "min       1.000000    20.000000    21.000000    1300.000000     1.000000   \n",
      "25%     365.750000    20.000000    59.000000    7553.500000     5.000000   \n",
      "50%     730.500000    50.000000    69.000000    9478.500000     6.000000   \n",
      "75%    1095.250000    70.000000    80.000000   11601.500000     7.000000   \n",
      "max    1460.000000   190.000000   313.000000  215245.000000    10.000000   \n",
      "\n",
      "       OverallCond    YearBuilt  YearRemodAdd   MasVnrArea   BsmtFinSF1  ...  \\\n",
      "count  1460.000000  1460.000000   1460.000000  1452.000000  1460.000000  ...   \n",
      "mean      5.575342  1971.267808   1984.865753   103.685262   443.639726  ...   \n",
      "std       1.112799    30.202904     20.645407   181.066207   456.098091  ...   \n",
      "min       1.000000  1872.000000   1950.000000     0.000000     0.000000  ...   \n",
      "25%       5.000000  1954.000000   1967.000000     0.000000     0.000000  ...   \n",
      "50%       5.000000  1973.000000   1994.000000     0.000000   383.500000  ...   \n",
      "75%       6.000000  2000.000000   2004.000000   166.000000   712.250000  ...   \n",
      "max       9.000000  2010.000000   2010.000000  1600.000000  5644.000000  ...   \n",
      "\n",
      "        WoodDeckSF  OpenPorchSF  EnclosedPorch    3SsnPorch  ScreenPorch  \\\n",
      "count  1460.000000  1460.000000    1460.000000  1460.000000  1460.000000   \n",
      "mean     94.244521    46.660274      21.954110     3.409589    15.060959   \n",
      "std     125.338794    66.256028      61.119149    29.317331    55.757415   \n",
      "min       0.000000     0.000000       0.000000     0.000000     0.000000   \n",
      "25%       0.000000     0.000000       0.000000     0.000000     0.000000   \n",
      "50%       0.000000    25.000000       0.000000     0.000000     0.000000   \n",
      "75%     168.000000    68.000000       0.000000     0.000000     0.000000   \n",
      "max     857.000000   547.000000     552.000000   508.000000   480.000000   \n",
      "\n",
      "          PoolArea       MiscVal       MoSold       YrSold      SalePrice  \n",
      "count  1460.000000   1460.000000  1460.000000  1460.000000    1460.000000  \n",
      "mean      2.758904     43.489041     6.321918  2007.815753  180921.195890  \n",
      "std      40.177307    496.123024     2.703626     1.328095   79442.502883  \n",
      "min       0.000000      0.000000     1.000000  2006.000000   34900.000000  \n",
      "25%       0.000000      0.000000     5.000000  2007.000000  129975.000000  \n",
      "50%       0.000000      0.000000     6.000000  2008.000000  163000.000000  \n",
      "75%       0.000000      0.000000     8.000000  2009.000000  214000.000000  \n",
      "max     738.000000  15500.000000    12.000000  2010.000000  755000.000000  \n",
      "\n",
      "[8 rows x 38 columns]\n"
     ]
    }
   ],
   "source": [
    "print(df.info())  # Сведения о типах данных и пропусках\n",
    "print(df.describe())  # Статистическое описание числовых колонок"
   ]
  },
  {
   "cell_type": "markdown",
   "id": "18cf5d9b",
   "metadata": {
    "papermill": {
     "duration": 0.008227,
     "end_time": "2024-09-30T18:09:32.269274",
     "exception": false,
     "start_time": "2024-09-30T18:09:32.261047",
     "status": "completed"
    },
    "tags": []
   },
   "source": [
    "## Посмотрим на уникальные значения признаков с типом object\n",
    "> *Let's look at the unique values of features with the object data type.*"
   ]
  },
  {
   "cell_type": "code",
   "execution_count": 5,
   "id": "30ab2c4b",
   "metadata": {
    "execution": {
     "iopub.execute_input": "2024-09-30T18:09:32.290892Z",
     "iopub.status.busy": "2024-09-30T18:09:32.290343Z",
     "iopub.status.idle": "2024-09-30T18:09:32.311397Z",
     "shell.execute_reply": "2024-09-30T18:09:32.310001Z"
    },
    "papermill": {
     "duration": 0.034993,
     "end_time": "2024-09-30T18:09:32.315061",
     "exception": false,
     "start_time": "2024-09-30T18:09:32.280068",
     "status": "completed"
    },
    "tags": []
   },
   "outputs": [
    {
     "name": "stdout",
     "output_type": "stream",
     "text": [
      "Unique values in column 'MSZoning':\n",
      "['RL' 'RM' 'C (all)' 'FV' 'RH']\n",
      "--------------------------------------------------\n",
      "Unique values in column 'Street':\n",
      "['Pave' 'Grvl']\n",
      "--------------------------------------------------\n",
      "Unique values in column 'Alley':\n",
      "[nan 'Grvl' 'Pave']\n",
      "--------------------------------------------------\n",
      "Unique values in column 'LotShape':\n",
      "['Reg' 'IR1' 'IR2' 'IR3']\n",
      "--------------------------------------------------\n",
      "Unique values in column 'LandContour':\n",
      "['Lvl' 'Bnk' 'Low' 'HLS']\n",
      "--------------------------------------------------\n",
      "Unique values in column 'Utilities':\n",
      "['AllPub' 'NoSeWa']\n",
      "--------------------------------------------------\n",
      "Unique values in column 'LotConfig':\n",
      "['Inside' 'FR2' 'Corner' 'CulDSac' 'FR3']\n",
      "--------------------------------------------------\n",
      "Unique values in column 'LandSlope':\n",
      "['Gtl' 'Mod' 'Sev']\n",
      "--------------------------------------------------\n",
      "Unique values in column 'Neighborhood':\n",
      "['CollgCr' 'Veenker' 'Crawfor' 'NoRidge' 'Mitchel' 'Somerst' 'NWAmes'\n",
      " 'OldTown' 'BrkSide' 'Sawyer' 'NridgHt' 'NAmes' 'SawyerW' 'IDOTRR'\n",
      " 'MeadowV' 'Edwards' 'Timber' 'Gilbert' 'StoneBr' 'ClearCr' 'NPkVill'\n",
      " 'Blmngtn' 'BrDale' 'SWISU' 'Blueste']\n",
      "--------------------------------------------------\n",
      "Unique values in column 'Condition1':\n",
      "['Norm' 'Feedr' 'PosN' 'Artery' 'RRAe' 'RRNn' 'RRAn' 'PosA' 'RRNe']\n",
      "--------------------------------------------------\n",
      "Unique values in column 'Condition2':\n",
      "['Norm' 'Artery' 'RRNn' 'Feedr' 'PosN' 'PosA' 'RRAn' 'RRAe']\n",
      "--------------------------------------------------\n",
      "Unique values in column 'BldgType':\n",
      "['1Fam' '2fmCon' 'Duplex' 'TwnhsE' 'Twnhs']\n",
      "--------------------------------------------------\n",
      "Unique values in column 'HouseStyle':\n",
      "['2Story' '1Story' '1.5Fin' '1.5Unf' 'SFoyer' 'SLvl' '2.5Unf' '2.5Fin']\n",
      "--------------------------------------------------\n",
      "Unique values in column 'RoofStyle':\n",
      "['Gable' 'Hip' 'Gambrel' 'Mansard' 'Flat' 'Shed']\n",
      "--------------------------------------------------\n",
      "Unique values in column 'RoofMatl':\n",
      "['CompShg' 'WdShngl' 'Metal' 'WdShake' 'Membran' 'Tar&Grv' 'Roll'\n",
      " 'ClyTile']\n",
      "--------------------------------------------------\n",
      "Unique values in column 'Exterior1st':\n",
      "['VinylSd' 'MetalSd' 'Wd Sdng' 'HdBoard' 'BrkFace' 'WdShing' 'CemntBd'\n",
      " 'Plywood' 'AsbShng' 'Stucco' 'BrkComm' 'AsphShn' 'Stone' 'ImStucc'\n",
      " 'CBlock']\n",
      "--------------------------------------------------\n",
      "Unique values in column 'Exterior2nd':\n",
      "['VinylSd' 'MetalSd' 'Wd Shng' 'HdBoard' 'Plywood' 'Wd Sdng' 'CmentBd'\n",
      " 'BrkFace' 'Stucco' 'AsbShng' 'Brk Cmn' 'ImStucc' 'AsphShn' 'Stone'\n",
      " 'Other' 'CBlock']\n",
      "--------------------------------------------------\n",
      "Unique values in column 'MasVnrType':\n",
      "['BrkFace' nan 'Stone' 'BrkCmn']\n",
      "--------------------------------------------------\n",
      "Unique values in column 'ExterQual':\n",
      "['Gd' 'TA' 'Ex' 'Fa']\n",
      "--------------------------------------------------\n",
      "Unique values in column 'ExterCond':\n",
      "['TA' 'Gd' 'Fa' 'Po' 'Ex']\n",
      "--------------------------------------------------\n",
      "Unique values in column 'Foundation':\n",
      "['PConc' 'CBlock' 'BrkTil' 'Wood' 'Slab' 'Stone']\n",
      "--------------------------------------------------\n",
      "Unique values in column 'BsmtQual':\n",
      "['Gd' 'TA' 'Ex' nan 'Fa']\n",
      "--------------------------------------------------\n",
      "Unique values in column 'BsmtCond':\n",
      "['TA' 'Gd' nan 'Fa' 'Po']\n",
      "--------------------------------------------------\n",
      "Unique values in column 'BsmtExposure':\n",
      "['No' 'Gd' 'Mn' 'Av' nan]\n",
      "--------------------------------------------------\n",
      "Unique values in column 'BsmtFinType1':\n",
      "['GLQ' 'ALQ' 'Unf' 'Rec' 'BLQ' nan 'LwQ']\n",
      "--------------------------------------------------\n",
      "Unique values in column 'BsmtFinType2':\n",
      "['Unf' 'BLQ' nan 'ALQ' 'Rec' 'LwQ' 'GLQ']\n",
      "--------------------------------------------------\n",
      "Unique values in column 'Heating':\n",
      "['GasA' 'GasW' 'Grav' 'Wall' 'OthW' 'Floor']\n",
      "--------------------------------------------------\n",
      "Unique values in column 'HeatingQC':\n",
      "['Ex' 'Gd' 'TA' 'Fa' 'Po']\n",
      "--------------------------------------------------\n",
      "Unique values in column 'CentralAir':\n",
      "['Y' 'N']\n",
      "--------------------------------------------------\n",
      "Unique values in column 'Electrical':\n",
      "['SBrkr' 'FuseF' 'FuseA' 'FuseP' 'Mix' nan]\n",
      "--------------------------------------------------\n",
      "Unique values in column 'KitchenQual':\n",
      "['Gd' 'TA' 'Ex' 'Fa']\n",
      "--------------------------------------------------\n",
      "Unique values in column 'Functional':\n",
      "['Typ' 'Min1' 'Maj1' 'Min2' 'Mod' 'Maj2' 'Sev']\n",
      "--------------------------------------------------\n",
      "Unique values in column 'FireplaceQu':\n",
      "[nan 'TA' 'Gd' 'Fa' 'Ex' 'Po']\n",
      "--------------------------------------------------\n",
      "Unique values in column 'GarageType':\n",
      "['Attchd' 'Detchd' 'BuiltIn' 'CarPort' nan 'Basment' '2Types']\n",
      "--------------------------------------------------\n",
      "Unique values in column 'GarageFinish':\n",
      "['RFn' 'Unf' 'Fin' nan]\n",
      "--------------------------------------------------\n",
      "Unique values in column 'GarageQual':\n",
      "['TA' 'Fa' 'Gd' nan 'Ex' 'Po']\n",
      "--------------------------------------------------\n",
      "Unique values in column 'GarageCond':\n",
      "['TA' 'Fa' nan 'Gd' 'Po' 'Ex']\n",
      "--------------------------------------------------\n",
      "Unique values in column 'PavedDrive':\n",
      "['Y' 'N' 'P']\n",
      "--------------------------------------------------\n",
      "Unique values in column 'PoolQC':\n",
      "[nan 'Ex' 'Fa' 'Gd']\n",
      "--------------------------------------------------\n",
      "Unique values in column 'Fence':\n",
      "[nan 'MnPrv' 'GdWo' 'GdPrv' 'MnWw']\n",
      "--------------------------------------------------\n",
      "Unique values in column 'MiscFeature':\n",
      "[nan 'Shed' 'Gar2' 'Othr' 'TenC']\n",
      "--------------------------------------------------\n",
      "Unique values in column 'SaleType':\n",
      "['WD' 'New' 'COD' 'ConLD' 'ConLI' 'CWD' 'ConLw' 'Con' 'Oth']\n",
      "--------------------------------------------------\n",
      "Unique values in column 'SaleCondition':\n",
      "['Normal' 'Abnorml' 'Partial' 'AdjLand' 'Alloca' 'Family']\n",
      "--------------------------------------------------\n"
     ]
    }
   ],
   "source": [
    "object_columns = df.select_dtypes(include=['object'])\n",
    "\n",
    "for column in object_columns.columns:\n",
    "    unique_values = df[column].unique()\n",
    "    print(f\"Unique values in column '{column}':\")\n",
    "    print(unique_values)\n",
    "    print('-' * 50)  # Separator for readability\n"
   ]
  },
  {
   "cell_type": "markdown",
   "id": "936b6a1b",
   "metadata": {
    "papermill": {
     "duration": 0.008349,
     "end_time": "2024-09-30T18:09:32.332145",
     "exception": false,
     "start_time": "2024-09-30T18:09:32.323796",
     "status": "completed"
    },
    "tags": []
   },
   "source": [
    "## Обработаем числовые признаки"
   ]
  },
  {
   "cell_type": "code",
   "execution_count": 6,
   "id": "cf5366c4",
   "metadata": {
    "collapsed": true,
    "execution": {
     "iopub.execute_input": "2024-09-30T18:09:32.350927Z",
     "iopub.status.busy": "2024-09-30T18:09:32.350468Z",
     "iopub.status.idle": "2024-09-30T18:09:32.360089Z",
     "shell.execute_reply": "2024-09-30T18:09:32.358541Z"
    },
    "jupyter": {
     "outputs_hidden": true
    },
    "papermill": {
     "duration": 0.022699,
     "end_time": "2024-09-30T18:09:32.363242",
     "exception": false,
     "start_time": "2024-09-30T18:09:32.340543",
     "status": "completed"
    },
    "tags": []
   },
   "outputs": [
    {
     "name": "stderr",
     "output_type": "stream",
     "text": [
      "/tmp/ipykernel_17/2685540953.py:2: FutureWarning: A value is trying to be set on a copy of a DataFrame or Series through chained assignment using an inplace method.\n",
      "The behavior will change in pandas 3.0. This inplace method will never work because the intermediate object on which we are setting values always behaves as a copy.\n",
      "\n",
      "For example, when doing 'df[col].method(value, inplace=True)', try using 'df.method({col: value}, inplace=True)' or df[col] = df[col].method(value) instead, to perform the operation inplace on the original object.\n",
      "\n",
      "\n",
      "  df['LotFrontage'].fillna(df['LotFrontage'].median(), inplace = True)\n"
     ]
    }
   ],
   "source": [
    "# Фасад участка: Линейный отрезок улицы, соединенный с объектом недвижимости\n",
    "df['LotFrontage'].fillna(df['LotFrontage'].median(), inplace = True)"
   ]
  },
  {
   "cell_type": "markdown",
   "id": "c5a6df38",
   "metadata": {
    "papermill": {
     "duration": 0.008559,
     "end_time": "2024-09-30T18:09:32.381228",
     "exception": false,
     "start_time": "2024-09-30T18:09:32.372669",
     "status": "completed"
    },
    "tags": []
   },
   "source": [
    "## Аккуратно обработаем объектные признаки"
   ]
  },
  {
   "cell_type": "code",
   "execution_count": 7,
   "id": "29fee69b",
   "metadata": {
    "execution": {
     "iopub.execute_input": "2024-09-30T18:09:32.400934Z",
     "iopub.status.busy": "2024-09-30T18:09:32.400442Z",
     "iopub.status.idle": "2024-09-30T18:09:32.408012Z",
     "shell.execute_reply": "2024-09-30T18:09:32.406783Z"
    },
    "papermill": {
     "duration": 0.020505,
     "end_time": "2024-09-30T18:09:32.410564",
     "exception": false,
     "start_time": "2024-09-30T18:09:32.390059",
     "status": "completed"
    },
    "tags": []
   },
   "outputs": [
    {
     "name": "stderr",
     "output_type": "stream",
     "text": [
      "/tmp/ipykernel_17/2758298995.py:2: FutureWarning: A value is trying to be set on a copy of a DataFrame or Series through chained assignment using an inplace method.\n",
      "The behavior will change in pandas 3.0. This inplace method will never work because the intermediate object on which we are setting values always behaves as a copy.\n",
      "\n",
      "For example, when doing 'df[col].method(value, inplace=True)', try using 'df.method({col: value}, inplace=True)' or df[col] = df[col].method(value) instead, to perform the operation inplace on the original object.\n",
      "\n",
      "\n",
      "  df['Alley'].fillna('None', inplace = True)\n"
     ]
    }
   ],
   "source": [
    "# Выход к аллее\n",
    "df['Alley'].fillna('None', inplace = True)"
   ]
  },
  {
   "cell_type": "markdown",
   "id": "83748557",
   "metadata": {
    "papermill": {
     "duration": 0.008562,
     "end_time": "2024-09-30T18:09:32.427803",
     "exception": false,
     "start_time": "2024-09-30T18:09:32.419241",
     "status": "completed"
    },
    "tags": []
   },
   "source": [
    "**Обрати внимание**\n",
    "\n",
    "25  MasVnrType     588 non-null    object \n",
    "\n",
    "26  MasVnrArea     1452 non-null   float64"
   ]
  },
  {
   "cell_type": "code",
   "execution_count": 8,
   "id": "66c1133f",
   "metadata": {
    "execution": {
     "iopub.execute_input": "2024-09-30T18:09:32.447830Z",
     "iopub.status.busy": "2024-09-30T18:09:32.446558Z",
     "iopub.status.idle": "2024-09-30T18:09:32.466574Z",
     "shell.execute_reply": "2024-09-30T18:09:32.465341Z"
    },
    "papermill": {
     "duration": 0.032865,
     "end_time": "2024-09-30T18:09:32.469335",
     "exception": false,
     "start_time": "2024-09-30T18:09:32.436470",
     "status": "completed"
    },
    "tags": []
   },
   "outputs": [
    {
     "data": {
      "text/html": [
       "<div>\n",
       "<style scoped>\n",
       "    .dataframe tbody tr th:only-of-type {\n",
       "        vertical-align: middle;\n",
       "    }\n",
       "\n",
       "    .dataframe tbody tr th {\n",
       "        vertical-align: top;\n",
       "    }\n",
       "\n",
       "    .dataframe thead th {\n",
       "        text-align: right;\n",
       "    }\n",
       "</style>\n",
       "<table border=\"1\" class=\"dataframe\">\n",
       "  <thead>\n",
       "    <tr style=\"text-align: right;\">\n",
       "      <th></th>\n",
       "      <th>Exterior1st</th>\n",
       "      <th>Exterior2nd</th>\n",
       "      <th>MasVnrType</th>\n",
       "      <th>MasVnrArea</th>\n",
       "    </tr>\n",
       "  </thead>\n",
       "  <tbody>\n",
       "    <tr>\n",
       "      <th>1</th>\n",
       "      <td>MetalSd</td>\n",
       "      <td>MetalSd</td>\n",
       "      <td>NaN</td>\n",
       "      <td>0.0</td>\n",
       "    </tr>\n",
       "    <tr>\n",
       "      <th>3</th>\n",
       "      <td>Wd Sdng</td>\n",
       "      <td>Wd Shng</td>\n",
       "      <td>NaN</td>\n",
       "      <td>0.0</td>\n",
       "    </tr>\n",
       "    <tr>\n",
       "      <th>5</th>\n",
       "      <td>VinylSd</td>\n",
       "      <td>VinylSd</td>\n",
       "      <td>NaN</td>\n",
       "      <td>0.0</td>\n",
       "    </tr>\n",
       "    <tr>\n",
       "      <th>8</th>\n",
       "      <td>BrkFace</td>\n",
       "      <td>Wd Shng</td>\n",
       "      <td>NaN</td>\n",
       "      <td>0.0</td>\n",
       "    </tr>\n",
       "    <tr>\n",
       "      <th>9</th>\n",
       "      <td>MetalSd</td>\n",
       "      <td>MetalSd</td>\n",
       "      <td>NaN</td>\n",
       "      <td>0.0</td>\n",
       "    </tr>\n",
       "    <tr>\n",
       "      <th>...</th>\n",
       "      <td>...</td>\n",
       "      <td>...</td>\n",
       "      <td>...</td>\n",
       "      <td>...</td>\n",
       "    </tr>\n",
       "    <tr>\n",
       "      <th>1454</th>\n",
       "      <td>VinylSd</td>\n",
       "      <td>VinylSd</td>\n",
       "      <td>NaN</td>\n",
       "      <td>0.0</td>\n",
       "    </tr>\n",
       "    <tr>\n",
       "      <th>1455</th>\n",
       "      <td>VinylSd</td>\n",
       "      <td>VinylSd</td>\n",
       "      <td>NaN</td>\n",
       "      <td>0.0</td>\n",
       "    </tr>\n",
       "    <tr>\n",
       "      <th>1457</th>\n",
       "      <td>CemntBd</td>\n",
       "      <td>CmentBd</td>\n",
       "      <td>NaN</td>\n",
       "      <td>0.0</td>\n",
       "    </tr>\n",
       "    <tr>\n",
       "      <th>1458</th>\n",
       "      <td>MetalSd</td>\n",
       "      <td>MetalSd</td>\n",
       "      <td>NaN</td>\n",
       "      <td>0.0</td>\n",
       "    </tr>\n",
       "    <tr>\n",
       "      <th>1459</th>\n",
       "      <td>HdBoard</td>\n",
       "      <td>HdBoard</td>\n",
       "      <td>NaN</td>\n",
       "      <td>0.0</td>\n",
       "    </tr>\n",
       "  </tbody>\n",
       "</table>\n",
       "<p>872 rows × 4 columns</p>\n",
       "</div>"
      ],
      "text/plain": [
       "     Exterior1st Exterior2nd MasVnrType  MasVnrArea\n",
       "1        MetalSd     MetalSd        NaN         0.0\n",
       "3        Wd Sdng     Wd Shng        NaN         0.0\n",
       "5        VinylSd     VinylSd        NaN         0.0\n",
       "8        BrkFace     Wd Shng        NaN         0.0\n",
       "9        MetalSd     MetalSd        NaN         0.0\n",
       "...          ...         ...        ...         ...\n",
       "1454     VinylSd     VinylSd        NaN         0.0\n",
       "1455     VinylSd     VinylSd        NaN         0.0\n",
       "1457     CemntBd     CmentBd        NaN         0.0\n",
       "1458     MetalSd     MetalSd        NaN         0.0\n",
       "1459     HdBoard     HdBoard        NaN         0.0\n",
       "\n",
       "[872 rows x 4 columns]"
      ]
     },
     "execution_count": 8,
     "metadata": {},
     "output_type": "execute_result"
    }
   ],
   "source": [
    "# Тип кладки: Тип облицовки каменной кладки\n",
    "df[df['MasVnrType'].isna()][['Exterior1st', 'Exterior2nd', 'MasVnrType', 'MasVnrArea']]"
   ]
  },
  {
   "cell_type": "markdown",
   "id": "95d83259",
   "metadata": {
    "papermill": {
     "duration": 0.00858,
     "end_time": "2024-09-30T18:09:32.486786",
     "exception": false,
     "start_time": "2024-09-30T18:09:32.478206",
     "status": "completed"
    },
    "tags": []
   },
   "source": [
    "**Для этих значение заполним модой**"
   ]
  },
  {
   "cell_type": "code",
   "execution_count": 9,
   "id": "1972ec82",
   "metadata": {
    "execution": {
     "iopub.execute_input": "2024-09-30T18:09:32.508118Z",
     "iopub.status.busy": "2024-09-30T18:09:32.506657Z",
     "iopub.status.idle": "2024-09-30T18:09:32.525047Z",
     "shell.execute_reply": "2024-09-30T18:09:32.523768Z"
    },
    "papermill": {
     "duration": 0.031957,
     "end_time": "2024-09-30T18:09:32.527917",
     "exception": false,
     "start_time": "2024-09-30T18:09:32.495960",
     "status": "completed"
    },
    "tags": []
   },
   "outputs": [
    {
     "name": "stderr",
     "output_type": "stream",
     "text": [
      "/tmp/ipykernel_17/1617102378.py:1: UserWarning: Boolean Series key will be reindexed to match DataFrame index.\n",
      "  df[df['MasVnrType'].isna()][df['MasVnrArea'] > 0][['MasVnrType', 'MasVnrArea']]\n"
     ]
    },
    {
     "data": {
      "text/html": [
       "<div>\n",
       "<style scoped>\n",
       "    .dataframe tbody tr th:only-of-type {\n",
       "        vertical-align: middle;\n",
       "    }\n",
       "\n",
       "    .dataframe tbody tr th {\n",
       "        vertical-align: top;\n",
       "    }\n",
       "\n",
       "    .dataframe thead th {\n",
       "        text-align: right;\n",
       "    }\n",
       "</style>\n",
       "<table border=\"1\" class=\"dataframe\">\n",
       "  <thead>\n",
       "    <tr style=\"text-align: right;\">\n",
       "      <th></th>\n",
       "      <th>MasVnrType</th>\n",
       "      <th>MasVnrArea</th>\n",
       "    </tr>\n",
       "  </thead>\n",
       "  <tbody>\n",
       "    <tr>\n",
       "      <th>624</th>\n",
       "      <td>NaN</td>\n",
       "      <td>288.0</td>\n",
       "    </tr>\n",
       "    <tr>\n",
       "      <th>773</th>\n",
       "      <td>NaN</td>\n",
       "      <td>1.0</td>\n",
       "    </tr>\n",
       "    <tr>\n",
       "      <th>1230</th>\n",
       "      <td>NaN</td>\n",
       "      <td>1.0</td>\n",
       "    </tr>\n",
       "    <tr>\n",
       "      <th>1300</th>\n",
       "      <td>NaN</td>\n",
       "      <td>344.0</td>\n",
       "    </tr>\n",
       "    <tr>\n",
       "      <th>1334</th>\n",
       "      <td>NaN</td>\n",
       "      <td>312.0</td>\n",
       "    </tr>\n",
       "  </tbody>\n",
       "</table>\n",
       "</div>"
      ],
      "text/plain": [
       "     MasVnrType  MasVnrArea\n",
       "624         NaN       288.0\n",
       "773         NaN         1.0\n",
       "1230        NaN         1.0\n",
       "1300        NaN       344.0\n",
       "1334        NaN       312.0"
      ]
     },
     "execution_count": 9,
     "metadata": {},
     "output_type": "execute_result"
    }
   ],
   "source": [
    "df[df['MasVnrType'].isna()][df['MasVnrArea'] > 0][['MasVnrType', 'MasVnrArea']]"
   ]
  },
  {
   "cell_type": "code",
   "execution_count": 10,
   "id": "d96a68e6",
   "metadata": {
    "execution": {
     "iopub.execute_input": "2024-09-30T18:09:32.548401Z",
     "iopub.status.busy": "2024-09-30T18:09:32.547991Z",
     "iopub.status.idle": "2024-09-30T18:09:32.557971Z",
     "shell.execute_reply": "2024-09-30T18:09:32.556569Z"
    },
    "papermill": {
     "duration": 0.023735,
     "end_time": "2024-09-30T18:09:32.560899",
     "exception": false,
     "start_time": "2024-09-30T18:09:32.537164",
     "status": "completed"
    },
    "tags": []
   },
   "outputs": [
    {
     "data": {
      "text/plain": [
       "0    BrkFace\n",
       "Name: MasVnrType, dtype: object"
      ]
     },
     "execution_count": 10,
     "metadata": {},
     "output_type": "execute_result"
    }
   ],
   "source": [
    "# Найти наиболее частое значение\n",
    "most_frequent_value = df['MasVnrType'].mode()\n",
    "most_frequent_value"
   ]
  },
  {
   "cell_type": "markdown",
   "id": "a76ab8cb",
   "metadata": {
    "papermill": {
     "duration": 0.009752,
     "end_time": "2024-09-30T18:09:32.580798",
     "exception": false,
     "start_time": "2024-09-30T18:09:32.571046",
     "status": "completed"
    },
    "tags": []
   },
   "source": [
    "**Для остальных None**"
   ]
  },
  {
   "cell_type": "code",
   "execution_count": 11,
   "id": "2a53f6e2",
   "metadata": {
    "execution": {
     "iopub.execute_input": "2024-09-30T18:09:32.602611Z",
     "iopub.status.busy": "2024-09-30T18:09:32.602177Z",
     "iopub.status.idle": "2024-09-30T18:09:32.610120Z",
     "shell.execute_reply": "2024-09-30T18:09:32.608909Z"
    },
    "papermill": {
     "duration": 0.022117,
     "end_time": "2024-09-30T18:09:32.612908",
     "exception": false,
     "start_time": "2024-09-30T18:09:32.590791",
     "status": "completed"
    },
    "tags": []
   },
   "outputs": [
    {
     "name": "stderr",
     "output_type": "stream",
     "text": [
      "/tmp/ipykernel_17/421740333.py:2: FutureWarning: A value is trying to be set on a copy of a DataFrame or Series through chained assignment using an inplace method.\n",
      "The behavior will change in pandas 3.0. This inplace method will never work because the intermediate object on which we are setting values always behaves as a copy.\n",
      "\n",
      "For example, when doing 'df[col].method(value, inplace=True)', try using 'df.method({col: value}, inplace=True)' or df[col] = df[col].method(value) instead, to perform the operation inplace on the original object.\n",
      "\n",
      "\n",
      "  df['MasVnrType'].fillna('None', inplace=True)\n"
     ]
    }
   ],
   "source": [
    "# Заполнить пропуски специальной категорией 'None'\n",
    "df['MasVnrType'].fillna('None', inplace=True)"
   ]
  },
  {
   "cell_type": "code",
   "execution_count": 12,
   "id": "451259a9",
   "metadata": {
    "execution": {
     "iopub.execute_input": "2024-09-30T18:09:32.635357Z",
     "iopub.status.busy": "2024-09-30T18:09:32.634928Z",
     "iopub.status.idle": "2024-09-30T18:09:32.643628Z",
     "shell.execute_reply": "2024-09-30T18:09:32.642262Z"
    },
    "papermill": {
     "duration": 0.023339,
     "end_time": "2024-09-30T18:09:32.646285",
     "exception": false,
     "start_time": "2024-09-30T18:09:32.622946",
     "status": "completed"
    },
    "tags": []
   },
   "outputs": [
    {
     "data": {
      "text/plain": [
       "array(['RL', 'RM', 'C (all)', 'FV', 'RH'], dtype=object)"
      ]
     },
     "execution_count": 12,
     "metadata": {},
     "output_type": "execute_result"
    }
   ],
   "source": [
    "df['MSZoning'].unique()"
   ]
  },
  {
   "cell_type": "code",
   "execution_count": 13,
   "id": "1e94b1e3",
   "metadata": {
    "execution": {
     "iopub.execute_input": "2024-09-30T18:09:32.668603Z",
     "iopub.status.busy": "2024-09-30T18:09:32.668127Z",
     "iopub.status.idle": "2024-09-30T18:09:32.677339Z",
     "shell.execute_reply": "2024-09-30T18:09:32.675984Z"
    },
    "papermill": {
     "duration": 0.023614,
     "end_time": "2024-09-30T18:09:32.679944",
     "exception": false,
     "start_time": "2024-09-30T18:09:32.656330",
     "status": "completed"
    },
    "tags": []
   },
   "outputs": [
    {
     "data": {
      "text/plain": [
       "array([nan, 'Ex', 'Fa', 'Gd'], dtype=object)"
      ]
     },
     "execution_count": 13,
     "metadata": {},
     "output_type": "execute_result"
    }
   ],
   "source": [
    "df['PoolQC'].unique()\n",
    "# titanic.Survived.unique()"
   ]
  },
  {
   "cell_type": "code",
   "execution_count": null,
   "id": "366833cc",
   "metadata": {
    "papermill": {
     "duration": 0.009528,
     "end_time": "2024-09-30T18:09:32.699480",
     "exception": false,
     "start_time": "2024-09-30T18:09:32.689952",
     "status": "completed"
    },
    "tags": []
   },
   "outputs": [],
   "source": []
  }
 ],
 "metadata": {
  "kaggle": {
   "accelerator": "none",
   "dataSources": [
    {
     "databundleVersionId": 868283,
     "sourceId": 5407,
     "sourceType": "competition"
    },
    {
     "datasetId": 1381830,
     "sourceId": 2292500,
     "sourceType": "datasetVersion"
    }
   ],
   "dockerImageVersionId": 30775,
   "isGpuEnabled": false,
   "isInternetEnabled": true,
   "language": "python",
   "sourceType": "notebook"
  },
  "kernelspec": {
   "display_name": "Python 3",
   "language": "python",
   "name": "python3"
  },
  "language_info": {
   "codemirror_mode": {
    "name": "ipython",
    "version": 3
   },
   "file_extension": ".py",
   "mimetype": "text/x-python",
   "name": "python",
   "nbconvert_exporter": "python",
   "pygments_lexer": "ipython3",
   "version": "3.10.14"
  },
  "papermill": {
   "default_parameters": {},
   "duration": 5.685556,
   "end_time": "2024-09-30T18:09:33.334434",
   "environment_variables": {},
   "exception": null,
   "input_path": "__notebook__.ipynb",
   "output_path": "__notebook__.ipynb",
   "parameters": {},
   "start_time": "2024-09-30T18:09:27.648878",
   "version": "2.6.0"
  }
 },
 "nbformat": 4,
 "nbformat_minor": 5
}
